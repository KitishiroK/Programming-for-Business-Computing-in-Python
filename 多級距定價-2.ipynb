{
 "cells": [
  {
   "cell_type": "code",
   "execution_count": 1,
   "metadata": {},
   "outputs": [
    {
     "name": "stdout",
     "output_type": "stream",
     "text": [
      "3,45\n",
      "10,30,1000,55,40,35\n",
      "1875\n"
     ]
    }
   ],
   "source": [
    "first_line = input()  # Store input in first_line.\n",
    "first_line = first_line.split(\",\")  # Split with \",\".\n",
    "second_line = input()  # Store input in second_line.\n",
    "second_line = second_line.split(\",\")  # Split with \",\".\n",
    "n = int(first_line[0])  # Number of threshold.\n",
    "kg_at_least = int(first_line[1])  # Weight of meat we need.\n",
    "kg_threshhold_previous = 0  # Weight of previous threshhold.\n",
    "total = 0  # Total price.\n",
    "buttom_stop = 0  # Calculation continues when buttom_stop = 0.\n",
    "\n",
    "list_threshold = []  # List to store threshold.\n",
    "list_price = []  # List to store price.\n",
    "for i in range(n):  # Store all thresholds.\n",
    "    list_threshold.append(int(second_line[i]))\n",
    "for j in range(n):  # Store all prices.\n",
    "    list_price.append(int(second_line[n+j]))\n",
    "\n",
    "# Calculate the total price of meat.\n",
    "for k in range(n):  # Run for n times.\n",
    "    kg = list_threshold[k]\n",
    "    price = list_price[k]\n",
    "    if buttom_stop == 0:  # Calculation continues when buttom_stop = 0.\n",
    "        # Situation when meat we need is over or equal to threshhold.\n",
    "        if kg_at_least >= kg:\n",
    "            total += price*(kg-kg_threshhold_previous)\n",
    "            # Update weight of previous threshhold.\n",
    "            kg_threshhold_previous = kg\n",
    "        # Situation when meat we need is less than threshhold.\n",
    "        elif kg_at_least < kg:\n",
    "            total += price*(kg_at_least - kg_threshhold_previous)\n",
    "            # Calculation stops when buttom_stop = 1.\n",
    "            buttom_stop = 1\n",
    "print(total)\n"
   ]
  },
  {
   "cell_type": "code",
   "execution_count": null,
   "metadata": {},
   "outputs": [],
   "source": []
  }
 ],
 "metadata": {
  "kernelspec": {
   "display_name": "Python 3",
   "language": "python",
   "name": "python3"
  },
  "language_info": {
   "codemirror_mode": {
    "name": "ipython",
    "version": 3
   },
   "file_extension": ".py",
   "mimetype": "text/x-python",
   "name": "python",
   "nbconvert_exporter": "python",
   "pygments_lexer": "ipython3",
   "version": "3.8.3"
  }
 },
 "nbformat": 4,
 "nbformat_minor": 4
}
