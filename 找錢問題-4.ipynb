{
 "cells": [
  {
   "cell_type": "code",
   "execution_count": 3,
   "metadata": {},
   "outputs": [
    {
     "name": "stdout",
     "output_type": "stream",
     "text": [
      "10\n",
      "75\n",
      "10\n",
      "25\n",
      "1000\n",
      "10\n",
      "$0\n"
     ]
    }
   ],
   "source": [
    "number_ticket_x1 = int(input())\n",
    "price_1 = int(input())\n",
    "number_ticket_x2 = int(input())\n",
    "price_2 = int(input())\n",
    "total_paid = int(input())\n",
    "total_number_ticket = int(input())\n",
    "number_ticket = number_ticket_x1+number_ticket_x2\n",
    "expense = number_ticket_x1*price_1+number_ticket_x2*price_2\n",
    "left_ticket = total_number_ticket-number_ticket\n",
    "left_money = total_paid-expense\n",
    "if left_ticket >= 0:\n",
    "    print(left_ticket, end=\"\")\n",
    "    print(\",\", end=\"\")\n",
    "if left_money >= 0:\n",
    "        print(\"$\"+str(left_money))\n"
   ]
  },
  {
   "cell_type": "code",
   "execution_count": 6,
   "metadata": {},
   "outputs": [
    {
     "name": "stdout",
     "output_type": "stream",
     "text": [
      "7\n",
      "5\n",
      "60\n",
      "30\n",
      "1000\n",
      "1000,570,430\n"
     ]
    }
   ],
   "source": [
    "# kelly wang\n",
    "\n",
    "# input\n",
    "# 有五行 input，一行一個數字\n",
    "adult_num = int(input())  # 全票數量\n",
    "student_num = int(input())  # 學生票數量\n",
    "adult_price = int(input())  # 全票價格\n",
    "student_price= int(input())  # 學生票價格\n",
    "money = int(input())  # 擁有的鈔票面額\n",
    "# 所需要付的金額\n",
    "ttl_price = student_price * student_num + adult_price * adult_num\n",
    "remaining = money - ttl_price  # 要找回的錢\n",
    "# output\n",
    "print(money, ttl_price, remaining, sep=',')"
   ]
  },
  {
   "cell_type": "code",
   "execution_count": null,
   "metadata": {},
   "outputs": [],
   "source": [
    "10\n",
    "75\n",
    "10\n",
    "25\n",
    "1000\n",
    "10\n",
    "$0"
   ]
  }
 ],
 "metadata": {
  "kernelspec": {
   "display_name": "Python 3",
   "language": "python",
   "name": "python3"
  },
  "language_info": {
   "codemirror_mode": {
    "name": "ipython",
    "version": 3
   },
   "file_extension": ".py",
   "mimetype": "text/x-python",
   "name": "python",
   "nbconvert_exporter": "python",
   "pygments_lexer": "ipython3",
   "version": "3.8.3"
  }
 },
 "nbformat": 4,
 "nbformat_minor": 4
}
