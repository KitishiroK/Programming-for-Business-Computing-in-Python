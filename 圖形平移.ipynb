{
 "cells": [
  {
   "cell_type": "code",
   "execution_count": 1,
   "metadata": {},
   "outputs": [
    {
     "name": "stdout",
     "output_type": "stream",
     "text": [
      "0,0,1,0\n",
      "1,0,1,1\n",
      "1,1,0,0\n",
      "LINESTOP\n",
      "0.5,-0.5\n",
      "Line0: 0.500 -0.500 1.500 -0.500\n",
      "Line1: 1.500 -0.500 1.500 0.500\n",
      "Line2: 1.500 0.500 0.500 -0.500\n"
     ]
    }
   ],
   "source": [
    "# Inputs of data.\n",
    "total_list = []\n",
    "while True:\n",
    "    xlist = input()\n",
    "    if xlist == \"LINESTOP\":\n",
    "        # Condition to stop this program.\n",
    "        break\n",
    "    else:\n",
    "        xlist = xlist.split(\",\")\n",
    "        xlist_float = []\n",
    "        for i in range(len(xlist)):\n",
    "            xlist_float.append(float(xlist[i]))\n",
    "        total_list.append(xlist_float)\n",
    "shift = input()\n",
    "shift = shift.split(\",\")\n",
    "\n",
    "# Store data shift in a shift_float list.\n",
    "shift_float = []\n",
    "for i in range(len(shift)):\n",
    "    shift_float.append(float(shift[i]))\n",
    "xshift = shift_float[0]  # Shift of x-axis.\n",
    "yshift = shift_float[1]  # Shift of y-axis\n",
    "linelist = total_list\n",
    "\n",
    "\n",
    "# Build the plotshift function.\n",
    "def plotshift(linelist, xshift=0, yshift=0):\n",
    "    for i in range(len(linelist)):\n",
    "        for j in range(1):\n",
    "            # Add shifts of x-axis and y-axis to x and y coordinates.\n",
    "            linelist[i][0] += xshift\n",
    "            linelist[i][1] += yshift\n",
    "            linelist[i][2] += xshift\n",
    "            linelist[i][3] += yshift\n",
    "    return linelist\n",
    "\n",
    "\n",
    "# Print out results in the method as required.\n",
    "def printlines(linelist):\n",
    "    for i, aline in enumerate(linelist):\n",
    "        print(\"Line%d: %0.3f %0.3f %0.3f %0.3f\" %\n",
    "              (i, aline[0], aline[1], aline[2], aline[3]))\n",
    "\n",
    "# Print out result as required.\n",
    "linelist = plotshift(linelist, xshift, yshift)\n",
    "printlines(linelist)\n"
   ]
  },
  {
   "cell_type": "code",
   "execution_count": 2,
   "metadata": {},
   "outputs": [],
   "source": [
    "import matplotlib.pyplot as plt\n",
    "\n",
    "def plotlines(linelist, canvas=[-2, 2, -2, 2], finalize=True):\n",
    "    plt.figure(figsize=(5, 5))\n",
    "    plt.axis(canvas)    \n",
    "    for aline in linelist:\n",
    "        plt.plot([aline[0], aline[2]], [aline[1], aline[3]], linestyle='-', marker='o', color='b')\n",
    "    plt.draw()\n",
    "    plt.pause(.01)\n",
    "    if finalize:\n",
    "        plt.show()"
   ]
  },
  {
   "cell_type": "code",
   "execution_count": 3,
   "metadata": {},
   "outputs": [
    {
     "data": {
      "image/png": "[encoded data removed]",
      "text/plain": [
       "<Figure size 360x360 with 1 Axes>"
      ]
     },
     "metadata": {
      "needs_background": "light"
     },
     "output_type": "display_data"
    }
   ],
   "source": [
    "fig1 = [[0, 0, 1, 0], [1, 0, 1, 1], [1, 1, 0, 0]]\n",
    "plotlines(fig1)"
   ]
  },
  {
   "cell_type": "code",
   "execution_count": 4,
   "metadata": {},
   "outputs": [
    {
     "name": "stdout",
     "output_type": "stream",
     "text": [
      "Line0: 0.000 0.000 1.000 0.000\n",
      "Line1: 1.000 0.000 1.000 1.000\n",
      "Line2: 1.000 1.000 0.000 0.000\n"
     ]
    }
   ],
   "source": [
    "def printlines(linelist):\n",
    "    for i, aline in enumerate(linelist):\n",
    "        print(\"Line%d: %0.3f %0.3f %0.3f %0.3f\" % (i, aline[0], aline[1], aline[2], aline[3]))\n",
    "\n",
    "printlines(fig1)"
   ]
  },
  {
   "cell_type": "code",
   "execution_count": 5,
   "metadata": {},
   "outputs": [],
   "source": [
    "def plotshift(linelist, xshift=0, yshift=0):\n",
    "    # 定義你的函數\n",
    "\n",
    "    return something"
   ]
  },
  {
   "cell_type": "code",
   "execution_count": 6,
   "metadata": {},
   "outputs": [
    {
     "ename": "NameError",
     "evalue": "name 'something' is not defined",
     "output_type": "error",
     "traceback": [
      "\u001b[1;31m---------------------------------------------------------------------------\u001b[0m",
      "\u001b[1;31mNameError\u001b[0m                                 Traceback (most recent call last)",
      "\u001b[1;32m<ipython-input-6-9ca1191f921b>\u001b[0m in \u001b[0;36m<module>\u001b[1;34m\u001b[0m\n\u001b[1;32m----> 1\u001b[1;33m \u001b[0mfig2\u001b[0m \u001b[1;33m=\u001b[0m \u001b[0mplotshift\u001b[0m\u001b[1;33m(\u001b[0m\u001b[0mfig1\u001b[0m\u001b[1;33m,\u001b[0m \u001b[1;36m0.5\u001b[0m\u001b[1;33m,\u001b[0m \u001b[1;33m-\u001b[0m\u001b[1;36m0.5\u001b[0m\u001b[1;33m)\u001b[0m\u001b[1;33m\u001b[0m\u001b[1;33m\u001b[0m\u001b[0m\n\u001b[0m\u001b[0;32m      2\u001b[0m \u001b[0mplotlines\u001b[0m\u001b[1;33m(\u001b[0m\u001b[0mfig2\u001b[0m\u001b[1;33m)\u001b[0m\u001b[1;33m\u001b[0m\u001b[1;33m\u001b[0m\u001b[0m\n",
      "\u001b[1;32m<ipython-input-5-ed332f4bacc8>\u001b[0m in \u001b[0;36mplotshift\u001b[1;34m(linelist, xshift, yshift)\u001b[0m\n\u001b[0;32m      2\u001b[0m     \u001b[1;31m# 定義你的函數\u001b[0m\u001b[1;33m\u001b[0m\u001b[1;33m\u001b[0m\u001b[1;33m\u001b[0m\u001b[0m\n\u001b[0;32m      3\u001b[0m \u001b[1;33m\u001b[0m\u001b[0m\n\u001b[1;32m----> 4\u001b[1;33m     \u001b[1;32mreturn\u001b[0m \u001b[0msomething\u001b[0m\u001b[1;33m\u001b[0m\u001b[1;33m\u001b[0m\u001b[0m\n\u001b[0m",
      "\u001b[1;31mNameError\u001b[0m: name 'something' is not defined"
     ]
    }
   ],
   "source": [
    "fig2 = plotshift(fig1, 0.5, -0.5)\n",
    "plotlines(fig2)"
   ]
  },
  {
   "cell_type": "code",
   "execution_count": null,
   "metadata": {},
   "outputs": [],
   "source": [
    "printlines(fig2)"
   ]
  }
 ],
 "metadata": {
  "kernelspec": {
   "display_name": "Python 3",
   "language": "python",
   "name": "python3"
  },
  "language_info": {
   "codemirror_mode": {
    "name": "ipython",
    "version": 3
   },
   "file_extension": ".py",
   "mimetype": "text/x-python",
   "name": "python",
   "nbconvert_exporter": "python",
   "pygments_lexer": "ipython3",
   "version": "3.8.3"
  }
 },
 "nbformat": 4,
 "nbformat_minor": 4
}
