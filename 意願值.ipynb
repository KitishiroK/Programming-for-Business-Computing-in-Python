{
 "cells": [
  {
   "cell_type": "code",
   "execution_count": 3,
   "metadata": {},
   "outputs": [
    {
     "name": "stdout",
     "output_type": "stream",
     "text": [
      "13\n",
      "22\n",
      "8\n",
      "0.6\n",
      "0.67\n",
      "Let's go together.\n"
     ]
    }
   ],
   "source": [
    "density_pm = int(input())\n",
    "temperature = int(input())\n",
    "dew_point = int(input())\n",
    "critical_value = float(input())\n",
    "willingness_0 = 0.5\n",
    "if density_pm <= 35:\n",
    "    willingness_air = willingness_0+(100-density_pm)*0.005\n",
    "else:\n",
    "    willingness_air = willingness_0+(45-density_pm)*0.02\n",
    "humidity = 100-5*(temperature-dew_point)\n",
    "if humidity/100 <= 0.3:\n",
    "    willingness_humidity = (willingness_0/60)*(110-humidity)\n",
    "else:\n",
    "    willingness_humidity = (willingness_0/45)*(90-humidity)\n",
    "if willingness_humidity < 0:\n",
    "    willingness_humidity = 0\n",
    "if willingness_air <= 0:\n",
    "    willingness_air = 0\n",
    "if willingness_humidity > 1:\n",
    "    willingness_humidity = 1\n",
    "if willingness_air > 1:\n",
    "    willingness_air = 1\n",
    "\n",
    "# Choose the lower one between willingness_humidity and willingness_air.\n",
    "if willingness_air < willingness_humidity:\n",
    "    willingness = willingness_air\n",
    "else:\n",
    "    willingness = willingness_humidity\n",
    "print('{:.2f}'.format(willingness))\n",
    "if willingness >= critical_value:\n",
    "    print(\"Let's go together.\")\n",
    "else:\n",
    "    print(\"I wouldn't go out with you.\")\n"
   ]
  },
  {
   "cell_type": "code",
   "execution_count": null,
   "metadata": {},
   "outputs": [],
   "source": []
  }
 ],
 "metadata": {
  "kernelspec": {
   "display_name": "Python 3",
   "language": "python",
   "name": "python3"
  },
  "language_info": {
   "codemirror_mode": {
    "name": "ipython",
    "version": 3
   },
   "file_extension": ".py",
   "mimetype": "text/x-python",
   "name": "python",
   "nbconvert_exporter": "python",
   "pygments_lexer": "ipython3",
   "version": "3.8.3"
  }
 },
 "nbformat": 4,
 "nbformat_minor": 4
}
