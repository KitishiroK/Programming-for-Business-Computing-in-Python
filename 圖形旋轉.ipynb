{
 "cells": [
  {
   "cell_type": "code",
   "execution_count": 1,
   "metadata": {},
   "outputs": [
    {
     "name": "stdout",
     "output_type": "stream",
     "text": [
      "0,0,1,0\n",
      "['0', '0', '1', '0']\n",
      "[0.0, 0.0, 1.0, 0.0]\n",
      "1,0,1,0.5\n",
      "['1', '0', '1', '0.5']\n",
      "[1.0, 0.0, 1.0, 0.5]\n",
      "1,1,0,0\n",
      "['1', '1', '0', '0']\n",
      "[1.0, 1.0, 0.0, 0.0]\n",
      "LINESTOP\n",
      "total_list [[0.0, 0.0, 1.0, 0.0], [1.0, 0.0, 1.0, 0.5], [1.0, 1.0, 0.0, 0.0]]\n",
      "-30\n",
      "shift: -30\n",
      "Line0: 0.000 0.000 0.866 -0.500\n",
      "Line1: 0.866 -0.500 1.116 -0.067\n",
      "Line2: 1.366 0.366 0.000 0.000\n"
     ]
    }
   ],
   "source": [
    "# Import math library.\n",
    "import math\n",
    "\n",
    "# Inputs of all data.\n",
    "total_list = []\n",
    "while True:\n",
    "    xlist = input()\n",
    "    if xlist == \"LINESTOP\":\n",
    "        break\n",
    "    else:\n",
    "        xlist = xlist.split(\",\")\n",
    "        xlist_float = []\n",
    "        for i in range(len(xlist)):\n",
    "            xlist_float.append(float(xlist[i]))\n",
    "        total_list.append(xlist_float)\n",
    "shift = input()\n",
    "shift = int(shift)\n",
    "linelist = total_list\n",
    "\n",
    "\n",
    "# Build a rotate function to calcultae coordinates after rotation.\n",
    "def rotate(linelist, degree=90):\n",
    "    for i in range(len(linelist)):\n",
    "        # Calculate coordinates according to the matrix.\n",
    "        x = linelist[i][0]\n",
    "        y = linelist[i][1]\n",
    "        math.sin(math.radians(90))\n",
    "        x_two = (x*math.cos(math.radians(degree)) +\n",
    "                 y*(-1)*math.sin(math.radians(degree)))\n",
    "        y_two = (x*math.sin(math.radians(degree)) +\n",
    "                 y*math.cos(math.radians(degree)))\n",
    "        linelist[i][0] = x_two\n",
    "        linelist[i][1] = y_two\n",
    "        x = linelist[i][2]\n",
    "        y = linelist[i][3]\n",
    "        x_two = (x*math.cos(math.radians(degree)) +\n",
    "                 y*(-1)*math.sin(math.radians(degree)))\n",
    "        y_two = (x*math.sin(math.radians(degree)) +\n",
    "                 y*math.cos(math.radians(degree)))\n",
    "        linelist[i][2] = x_two\n",
    "        linelist[i][3] = y_two\n",
    "    return linelist\n",
    "\n",
    "\n",
    "# Print out results in the method as required.\n",
    "def printlines(linelist):\n",
    "    for i, aline in enumerate(linelist):\n",
    "        print(\"Line%d: %0.3f %0.3f %0.3f %0.3f\" %\n",
    "              (i, aline[0], aline[1], aline[2], aline[3]))\n",
    "\n",
    "# Print out result as required.\n",
    "linelist = rotate(linelist, shift)\n",
    "printlines(linelist)\n"
   ]
  },
  {
   "cell_type": "code",
   "execution_count": 2,
   "metadata": {},
   "outputs": [
    {
     "data": {
      "text/plain": [
       "-0.4480736161291701"
      ]
     },
     "execution_count": 2,
     "metadata": {},
     "output_type": "execute_result"
    }
   ],
   "source": [
    "math.cos(90)"
   ]
  },
  {
   "cell_type": "code",
   "execution_count": 3,
   "metadata": {},
   "outputs": [
    {
     "data": {
      "text/plain": [
       "1.0"
      ]
     },
     "execution_count": 3,
     "metadata": {},
     "output_type": "execute_result"
    }
   ],
   "source": [
    "math.cos(0)"
   ]
  },
  {
   "cell_type": "code",
   "execution_count": null,
   "metadata": {},
   "outputs": [],
   "source": []
  },
  {
   "cell_type": "code",
   "execution_count": 4,
   "metadata": {},
   "outputs": [
    {
     "ename": "KeyboardInterrupt",
     "evalue": "Interrupted by user",
     "output_type": "error",
     "traceback": [
      "\u001b[1;31m---------------------------------------------------------------------------\u001b[0m",
      "\u001b[1;31mKeyboardInterrupt\u001b[0m                         Traceback (most recent call last)",
      "\u001b[1;32m<ipython-input-4-88fd40e1ab09>\u001b[0m in \u001b[0;36m<module>\u001b[1;34m\u001b[0m\n\u001b[0;32m      2\u001b[0m \u001b[0mtotal_list\u001b[0m \u001b[1;33m=\u001b[0m \u001b[1;33m[\u001b[0m\u001b[1;33m]\u001b[0m\u001b[1;33m\u001b[0m\u001b[1;33m\u001b[0m\u001b[0m\n\u001b[0;32m      3\u001b[0m \u001b[1;32mwhile\u001b[0m \u001b[1;32mTrue\u001b[0m\u001b[1;33m:\u001b[0m\u001b[1;33m\u001b[0m\u001b[1;33m\u001b[0m\u001b[0m\n\u001b[1;32m----> 4\u001b[1;33m     \u001b[0mxlist\u001b[0m \u001b[1;33m=\u001b[0m \u001b[0minput\u001b[0m\u001b[1;33m(\u001b[0m\u001b[1;33m)\u001b[0m\u001b[1;33m\u001b[0m\u001b[1;33m\u001b[0m\u001b[0m\n\u001b[0m\u001b[0;32m      5\u001b[0m     \u001b[1;32mif\u001b[0m \u001b[0mxlist\u001b[0m \u001b[1;33m==\u001b[0m \u001b[1;34m\"LINESTOP\"\u001b[0m\u001b[1;33m:\u001b[0m\u001b[1;33m\u001b[0m\u001b[1;33m\u001b[0m\u001b[0m\n\u001b[0;32m      6\u001b[0m         \u001b[1;32mbreak\u001b[0m\u001b[1;33m\u001b[0m\u001b[1;33m\u001b[0m\u001b[0m\n",
      "\u001b[1;32m~\\anaconda3\\lib\\site-packages\\ipykernel\\kernelbase.py\u001b[0m in \u001b[0;36mraw_input\u001b[1;34m(self, prompt)\u001b[0m\n\u001b[0;32m    858\u001b[0m                 \u001b[1;34m\"raw_input was called, but this frontend does not support input requests.\"\u001b[0m\u001b[1;33m\u001b[0m\u001b[1;33m\u001b[0m\u001b[0m\n\u001b[0;32m    859\u001b[0m             )\n\u001b[1;32m--> 860\u001b[1;33m         return self._input_request(str(prompt),\n\u001b[0m\u001b[0;32m    861\u001b[0m             \u001b[0mself\u001b[0m\u001b[1;33m.\u001b[0m\u001b[0m_parent_ident\u001b[0m\u001b[1;33m,\u001b[0m\u001b[1;33m\u001b[0m\u001b[1;33m\u001b[0m\u001b[0m\n\u001b[0;32m    862\u001b[0m             \u001b[0mself\u001b[0m\u001b[1;33m.\u001b[0m\u001b[0m_parent_header\u001b[0m\u001b[1;33m,\u001b[0m\u001b[1;33m\u001b[0m\u001b[1;33m\u001b[0m\u001b[0m\n",
      "\u001b[1;32m~\\anaconda3\\lib\\site-packages\\ipykernel\\kernelbase.py\u001b[0m in \u001b[0;36m_input_request\u001b[1;34m(self, prompt, ident, parent, password)\u001b[0m\n\u001b[0;32m    902\u001b[0m             \u001b[1;32mexcept\u001b[0m \u001b[0mKeyboardInterrupt\u001b[0m\u001b[1;33m:\u001b[0m\u001b[1;33m\u001b[0m\u001b[1;33m\u001b[0m\u001b[0m\n\u001b[0;32m    903\u001b[0m                 \u001b[1;31m# re-raise KeyboardInterrupt, to truncate traceback\u001b[0m\u001b[1;33m\u001b[0m\u001b[1;33m\u001b[0m\u001b[1;33m\u001b[0m\u001b[0m\n\u001b[1;32m--> 904\u001b[1;33m                 \u001b[1;32mraise\u001b[0m \u001b[0mKeyboardInterrupt\u001b[0m\u001b[1;33m(\u001b[0m\u001b[1;34m\"Interrupted by user\"\u001b[0m\u001b[1;33m)\u001b[0m \u001b[1;32mfrom\u001b[0m \u001b[1;32mNone\u001b[0m\u001b[1;33m\u001b[0m\u001b[1;33m\u001b[0m\u001b[0m\n\u001b[0m\u001b[0;32m    905\u001b[0m             \u001b[1;32mexcept\u001b[0m \u001b[0mException\u001b[0m \u001b[1;32mas\u001b[0m \u001b[0me\u001b[0m\u001b[1;33m:\u001b[0m\u001b[1;33m\u001b[0m\u001b[1;33m\u001b[0m\u001b[0m\n\u001b[0;32m    906\u001b[0m                 \u001b[0mself\u001b[0m\u001b[1;33m.\u001b[0m\u001b[0mlog\u001b[0m\u001b[1;33m.\u001b[0m\u001b[0mwarning\u001b[0m\u001b[1;33m(\u001b[0m\u001b[1;34m\"Invalid Message:\"\u001b[0m\u001b[1;33m,\u001b[0m \u001b[0mexc_info\u001b[0m\u001b[1;33m=\u001b[0m\u001b[1;32mTrue\u001b[0m\u001b[1;33m)\u001b[0m\u001b[1;33m\u001b[0m\u001b[1;33m\u001b[0m\u001b[0m\n",
      "\u001b[1;31mKeyboardInterrupt\u001b[0m: Interrupted by user"
     ]
    }
   ],
   "source": [
    "# Inputs of all data.\n",
    "total_list = []\n",
    "while True:\n",
    "    xlist = input()\n",
    "    if xlist == \"LINESTOP\":\n",
    "        break\n",
    "    else:\n",
    "        xlist = xlist.split(\",\")\n",
    "        print(xlist)\n",
    "        xlist_float = []\n",
    "        for i in range(len(xlist)):\n",
    "            xlist_float.append(float(xlist[i])) \n",
    "        print(xlist_float)\n",
    "        total_list.append(xlist_float)\n",
    "        \n",
    "print(\"total_list\", total_list)\n",
    "shift = input()\n",
    "shift = shift.split(\",\")\n",
    "shift_float = []\n",
    "for i in range(len(shift)):\n",
    "    shift_float.append(float(shift[i]))\n",
    "print(\"shift_float:\", shift_float)\n",
    "xshift = shift_float[0]\n",
    "yshift = shift_float[1]\n",
    "print(\"xshift:\", xshift)\n",
    "print(\"yshift:\", yshift)\n",
    "linelist = total_list\n",
    "\n",
    "# plotshift function.\n",
    "def plotshift(linelist, xshift=0, yshift=0):\n",
    "    # 定義你的函數\n",
    "    for i in range(len(linelist)):\n",
    "        for j in range(1):\n",
    "            linelist[i][0] += xshift\n",
    "            linelist[i][1] += yshift\n",
    "            linelist[i][2] += xshift\n",
    "            linelist[i][3] += yshift            \n",
    "    return linelist\n",
    "\n",
    "def printlines(linelist):\n",
    "    for i, aline in enumerate(linelist):\n",
    "        print(\"Line%d: %0.3f %0.3f %0.3f %0.3f\" % (i, aline[0], aline[1], aline[2], aline[3]))\n",
    "\n",
    "linelist = plotshift(linelist, xshift, yshift)\n",
    "printlines(linelist)"
   ]
  }
 ],
 "metadata": {
  "kernelspec": {
   "display_name": "Python 3",
   "language": "python",
   "name": "python3"
  },
  "language_info": {
   "codemirror_mode": {
    "name": "ipython",
    "version": 3
   },
   "file_extension": ".py",
   "mimetype": "text/x-python",
   "name": "python",
   "nbconvert_exporter": "python",
   "pygments_lexer": "ipython3",
   "version": "3.8.3"
  }
 },
 "nbformat": 4,
 "nbformat_minor": 4
}
