{
 "cells": [
  {
   "cell_type": "code",
   "execution_count": 1,
   "metadata": {},
   "outputs": [
    {
     "name": "stdout",
     "output_type": "stream",
     "text": [
      "4,10\n",
      "3,4,3,1\n",
      "7,6,3,2\n",
      "1,1,0,1\n",
      "8,15\n"
     ]
    }
   ],
   "source": [
    "# Store all inputs.\n",
    "line_one = input()\n",
    "line_two = input()\n",
    "line_three = input()\n",
    "line_four = input()\n",
    "\n",
    "# Split inputs and store in respective space.\n",
    "line_one = line_one.split(\",\")\n",
    "number_of_item = int(line_one[0])  # number_of_item is n.\n",
    "upper_limit = int(line_one[1])  # upper_limit is B.\n",
    "weight_list = line_two.split(\",\")  # List with numbers of weight.\n",
    "utility_list = line_three.split(\",\")  # List with numbers of utility.\n",
    "have_item_or_not_list = line_four.split(\",\")\n",
    "# 1 means have item, 0 means doesn't have.\n",
    "\n",
    "total_weight = 0  # Space to store total weight.\n",
    "total_utility = 0  # Space to store total utility.\n",
    "\n",
    "# Check every item and calculate total weight and utility.\n",
    "for i in range(number_of_item):\n",
    "    if have_item_or_not_list[i] == \"1\":  # 1 means have item.\n",
    "        total_weight += int(weight_list[i])\n",
    "        total_utility += int(utility_list[i])\n",
    "\n",
    "# Determine total_weight is bigger or smaller than upper_limit.\n",
    "if total_weight <= upper_limit:\n",
    "    # Situation when total_weight is smaller than or equal to upper_limit.\n",
    "    print(total_weight, end=\"\")\n",
    "    print(\",\", end=\"\")\n",
    "    print(total_utility)\n",
    "else:\n",
    "    # Situation when total_weight is bigger than upper_limit.\n",
    "    print(-1)\n"
   ]
  },
  {
   "cell_type": "code",
   "execution_count": null,
   "metadata": {},
   "outputs": [],
   "source": []
  },
  {
   "cell_type": "code",
   "execution_count": null,
   "metadata": {},
   "outputs": [],
   "source": []
  }
 ],
 "metadata": {
  "kernelspec": {
   "display_name": "Python 3",
   "language": "python",
   "name": "python3"
  },
  "language_info": {
   "codemirror_mode": {
    "name": "ipython",
    "version": 3
   },
   "file_extension": ".py",
   "mimetype": "text/x-python",
   "name": "python",
   "nbconvert_exporter": "python",
   "pygments_lexer": "ipython3",
   "version": "3.8.3"
  }
 },
 "nbformat": 4,
 "nbformat_minor": 4
}
