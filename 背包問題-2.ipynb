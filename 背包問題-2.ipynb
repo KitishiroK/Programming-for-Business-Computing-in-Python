{
 "cells": [
  {
   "cell_type": "code",
   "execution_count": 28,
   "metadata": {},
   "outputs": [
    {
     "name": "stdout",
     "output_type": "stream",
     "text": [
      "5,9\n",
      "2,3,4,3,8\n",
      "3,4,5,3,11\n",
      "1,2,3\n"
     ]
    }
   ],
   "source": [
    "# Store all inputs.\n",
    "line_one = input()\n",
    "line_two = input()\n",
    "line_three = input()\n",
    "\n",
    "# Split inputs and store in respective space.\n",
    "line_one = line_one.split(\",\")\n",
    "number_of_item = int(line_one[0])  # number_of_item is n.\n",
    "upper_limit = int(line_one[1])  # upper_limit is B.\n",
    "weight_list = line_two.split(\",\")  # List with numbers of weight.\n",
    "utility_list = line_three.split(\",\")  # List with numbers of utility.\n",
    "\n",
    "total_weight = 0  # Space to store total weight.\n",
    "total_utility = 0  # Space to store total utility.\n",
    "cp_value_list = []\n",
    "\n",
    "# Calculate cp value and store in a  list.\n",
    "for i in range(number_of_item):\n",
    "    cp_value_list.append(int(utility_list[i])/int(weight_list[i]))\n",
    "\n",
    "# Create a copy list of cp_value_list.\n",
    "copy_cp_value_list = []\n",
    "for i in range(len(cp_value_list)):\n",
    "    copy_cp_value_list.append(cp_value_list[i])\n",
    "\n",
    "# Reverse copy_cp_value_list\n",
    "reverse_cp_value_list = sorted(copy_cp_value_list)\n",
    "reverse_cp_value_list.reverse()\n",
    "\n",
    "answer_list = []  # Create a list to store answer element.\n",
    "for i in range(number_of_item):  # Check every item.\n",
    "\n",
    "    # Store index and weight of the chose element.\n",
    "    number = int(cp_value_list.index(reverse_cp_value_list[i]))\n",
    "    weight = int(weight_list[number])\n",
    "\n",
    "    # Chose the element if the total weight isn't over upper_limit.\n",
    "    if total_weight + weight <= upper_limit:\n",
    "        total_weight += weight\n",
    "        answer_list.append(number)\n",
    "\n",
    "times = 0\n",
    "answer_list = sorted(answer_list)  # Sort the answer_list.\n",
    "\n",
    "# Print every element of answer_list except the last one.\n",
    "for i in range(len(answer_list)-1):\n",
    "    print(int(answer_list[i]+1), end=\"\")\n",
    "    print(\",\", end=\"\")\n",
    "    times += 1\n",
    "print(int(answer_list[times])+1)  # Print the last element of answer_list.\n"
   ]
  }
 ],
 "metadata": {
  "kernelspec": {
   "display_name": "Python 3",
   "language": "python",
   "name": "python3"
  },
  "language_info": {
   "codemirror_mode": {
    "name": "ipython",
    "version": 3
   },
   "file_extension": ".py",
   "mimetype": "text/x-python",
   "name": "python",
   "nbconvert_exporter": "python",
   "pygments_lexer": "ipython3",
   "version": "3.8.3"
  }
 },
 "nbformat": 4,
 "nbformat_minor": 4
}
