{
 "cells": [
  {
   "cell_type": "code",
   "execution_count": 1,
   "metadata": {},
   "outputs": [
    {
     "name": "stdout",
     "output_type": "stream",
     "text": [
      "19\n",
      "80\n",
      "3\n",
      "40\n",
      "500\n",
      "-1\n"
     ]
    }
   ],
   "source": [
    "x1 = int(input())\n",
    "p1 = int(input())\n",
    "x2 = int(input())\n",
    "p2 = int(input())\n",
    "t = int(input())\n",
    "expense = x1*p1+x2*p2\n",
    "left = t-expense\n",
    "if left < 0:\n",
    "    print(\"-1\")\n",
    "else:\n",
    "    print(\"$\"+str(left))\n"
   ]
  }
 ],
 "metadata": {
  "kernelspec": {
   "display_name": "Python 3",
   "language": "python",
   "name": "python3"
  },
  "language_info": {
   "codemirror_mode": {
    "name": "ipython",
    "version": 3
   },
   "file_extension": ".py",
   "mimetype": "text/x-python",
   "name": "python",
   "nbconvert_exporter": "python",
   "pygments_lexer": "ipython3",
   "version": "3.8.3"
  }
 },
 "nbformat": 4,
 "nbformat_minor": 4
}
