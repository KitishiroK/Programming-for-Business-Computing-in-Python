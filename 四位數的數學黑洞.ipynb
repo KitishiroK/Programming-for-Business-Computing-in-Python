{
 "cells": [
  {
   "cell_type": "code",
   "execution_count": null,
   "metadata": {},
   "outputs": [],
   "source": [
    "number = input()\n",
    "while number != 6174:  # Run program until number is 6174.\n",
    "    number = str(number)  # Store number as str format.\n",
    "    # Add zero if length of number is shorter than 4.\n",
    "    while len(number) < 4:\n",
    "        number = str(int(number)*10)\n",
    "    # Store four digit numbers in a list.\n",
    "    first_digit = int(number[0])\n",
    "    second_digit = int(number[1])\n",
    "    third_digit = int(number[2])\n",
    "    fourth_digit = int(number[3])\n",
    "    number_list = [first_digit, second_digit, third_digit, fourth_digit]\n",
    "\n",
    "    # List all digit from the biggest one to the smallest one.\n",
    "    number_list.sort()\n",
    "    number_list.reverse()\n",
    "    # Store number_list in biggest_combination.\n",
    "    biggest_combination = \"\"\n",
    "    for j in range(4):\n",
    "        biggest_combination += str(number_list[j])\n",
    "    # Change the str format into int format.\n",
    "    biggest_combination = int(biggest_combination)\n",
    "\n",
    "    # List all digit from the smallest one to the biggest one.\n",
    "    smallest_combination = \"\"\n",
    "    number_list.sort()\n",
    "    # Store number_list in biggest_combination.\n",
    "    for k in range(4):\n",
    "        smallest_combination += str(number_list[k])\n",
    "    # Change the str format into int format.\n",
    "    smallest_combination = int(smallest_combination)\n",
    "\n",
    "    # Calculate biggest_combination minus the smallest_combination.\n",
    "    # And store it in number.\n",
    "    number = biggest_combination - smallest_combination\n",
    "    print(number, end=\"\")  # Print number.\n",
    "    if number != 6174:  # Print \",\" if number isn't 6174.\n",
    "        print(\",\", end=\"\")\n"
   ]
  },
  {
   "cell_type": "code",
   "execution_count": null,
   "metadata": {},
   "outputs": [],
   "source": [
    "print(\"004\")\n"
   ]
  },
  {
   "cell_type": "code",
   "execution_count": null,
   "metadata": {},
   "outputs": [],
   "source": [
    "print(int(\"004\"))"
   ]
  },
  {
   "cell_type": "code",
   "execution_count": null,
   "metadata": {},
   "outputs": [],
   "source": []
  }
 ],
 "metadata": {
  "kernelspec": {
   "display_name": "Python 3",
   "language": "python",
   "name": "python3"
  },
  "language_info": {
   "codemirror_mode": {
    "name": "ipython",
    "version": 3
   },
   "file_extension": ".py",
   "mimetype": "text/x-python",
   "name": "python",
   "nbconvert_exporter": "python",
   "pygments_lexer": "ipython3",
   "version": "3.8.3"
  }
 },
 "nbformat": 4,
 "nbformat_minor": 4
}
