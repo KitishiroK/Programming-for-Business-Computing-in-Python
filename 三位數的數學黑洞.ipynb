{
 "cells": [
  {
   "cell_type": "code",
   "execution_count": 13,
   "metadata": {},
   "outputs": [
    {
     "name": "stdout",
     "output_type": "stream",
     "text": [
      "400\n",
      "396,594,495"
     ]
    }
   ],
   "source": [
    "number = input()\n",
    "for i in range(3):\n",
    "    if len(number) == 2:\n",
    "        number = int(number)*10\n",
    "    elif len(number) == 1:\n",
    "        number = int(number)*100\n",
    "    else:\n",
    "        pass\n",
    "    first_digit = str(number)[0]\n",
    "    second_digit = str(number)[1]\n",
    "    third_digit = str(number)[2]\n",
    "    if first_digit > second_digit:\n",
    "        if first_digit > third_digit:\n",
    "            biggest_digit = first_digit\n",
    "            if second_digit > third_digit:\n",
    "                lowest_digit = third_digit\n",
    "                middle_digit = second_digit\n",
    "            elif second_digit < third_digit:\n",
    "                lowest_digit = second_digit\n",
    "                middle_digit = third_digit\n",
    "            else:\n",
    "                lowest_digit = second_digit\n",
    "                middle_digit = third_digit\n",
    "        elif first_digit < third_digit:\n",
    "            biggest_digit = third_digit\n",
    "            lowest_digit = second_digit\n",
    "            middle_digit = first_digit\n",
    "        else:\n",
    "            biggest_digit = first_digit\n",
    "            lowest_digit = second_digit\n",
    "            middle_digit = third_digit\n",
    "    elif first_digit < second_digit:\n",
    "        if second_digit > third_digit:\n",
    "            biggest_digit = second_digit\n",
    "            if first_digit > third_digit:\n",
    "                lowest_digit = third_digit\n",
    "                middle_digit = first_digit\n",
    "            elif first_digit < third_digit:\n",
    "                lowest_digit = first_digit\n",
    "                middle_digit = third_digit\n",
    "            else:\n",
    "                lowest_digit = first_digit\n",
    "                middle_digit = third_digit\n",
    "        elif second_digit < third_digit:\n",
    "            biggest_digit = third_digit\n",
    "            lowest_digit = first_digit\n",
    "            middle_digit = second_digit\n",
    "        else:\n",
    "            biggest_digit = second_digit\n",
    "            lowest_digit = first_digit\n",
    "            middle_digit = third_digit\n",
    "    else:\n",
    "        if first_digit > third_digit:\n",
    "            biggest_digit = first_digit\n",
    "            middle_digit = third_digit\n",
    "            lowest_digit = third_digit\n",
    "        else:\n",
    "            biggest_digit = third_digit\n",
    "            middle_digit = first_digit\n",
    "            lowest_digit = second_digit\n",
    "    biggest_number = str(biggest_digit) + str(middle_digit) + str(lowest_digit)\n",
    "    lowest_number = str(lowest_digit) + str(middle_digit) + str(biggest_digit)\n",
    "    answer = int(biggest_number) - int(lowest_number)\n",
    "    number = str(answer)\n",
    "    if i < 2:\n",
    "        print(str(answer) + \",\", end=\"\")\n",
    "    else:\n",
    "        print(str(answer), end=\"\")\n"
   ]
  },
  {
   "cell_type": "code",
   "execution_count": null,
   "metadata": {},
   "outputs": [],
   "source": []
  },
  {
   "cell_type": "code",
   "execution_count": null,
   "metadata": {},
   "outputs": [],
   "source": []
  }
 ],
 "metadata": {
  "kernelspec": {
   "display_name": "Python 3",
   "language": "python",
   "name": "python3"
  },
  "language_info": {
   "codemirror_mode": {
    "name": "ipython",
    "version": 3
   },
   "file_extension": ".py",
   "mimetype": "text/x-python",
   "name": "python",
   "nbconvert_exporter": "python",
   "pygments_lexer": "ipython3",
   "version": "3.8.3"
  }
 },
 "nbformat": 4,
 "nbformat_minor": 4
}
