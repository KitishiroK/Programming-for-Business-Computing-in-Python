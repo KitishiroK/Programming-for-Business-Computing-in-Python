{
 "cells": [
  {
   "cell_type": "code",
   "execution_count": 8,
   "metadata": {},
   "outputs": [
    {
     "name": "stdout",
     "output_type": "stream",
     "text": [
      "19\n",
      "80\n",
      "3\n",
      "40\n",
      "500\n",
      "12\n",
      "-1,-2\n"
     ]
    }
   ],
   "source": [
    "x1 = int(input())\n",
    "p1 = int(input())\n",
    "x2 = int(input())\n",
    "p2 = int(input())\n",
    "t = int(input())\n",
    "b = int(input())\n",
    "number_ticket = x1+x2\n",
    "expense = x1*p1+x2*p2\n",
    "left_ticket = b-number_ticket\n",
    "left_money = t-expense\n",
    "if left_ticket < 0:\n",
    "    print(\"-1\", end=\"\")\n",
    "else:\n",
    "    print(left_ticket, end=\"\")\n",
    "print(\",\", end=\"\")\n",
    "if left_money < 0:\n",
    "    print(\"-2\")\n",
    "else:\n",
    "    print(\"$\"+str(left_money))\n"
   ]
  },
  {
   "cell_type": "code",
   "execution_count": null,
   "metadata": {},
   "outputs": [],
   "source": []
  }
 ],
 "metadata": {
  "kernelspec": {
   "display_name": "Python 3",
   "language": "python",
   "name": "python3"
  },
  "language_info": {
   "codemirror_mode": {
    "name": "ipython",
    "version": 3
   },
   "file_extension": ".py",
   "mimetype": "text/x-python",
   "name": "python",
   "nbconvert_exporter": "python",
   "pygments_lexer": "ipython3",
   "version": "3.8.3"
  }
 },
 "nbformat": 4,
 "nbformat_minor": 4
}
